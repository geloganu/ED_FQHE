{
 "cells": [
  {
   "cell_type": "code",
   "execution_count": 37,
   "metadata": {},
   "outputs": [],
   "source": [
    "import numpy as np\n",
    "import matplotlib.pyplot as plt\n",
    "\n",
    "import sys\n",
    "sys.path.insert(0, '../src')\n",
    "\n",
    "from hamiltonian import *\n",
    "from misc import *\n",
    "from haldane_pseudopotential import *"
   ]
  },
  {
   "cell_type": "code",
   "execution_count": 38,
   "metadata": {},
   "outputs": [
    {
     "name": "stdout",
     "output_type": "stream",
     "text": [
      "N_phi= 15 flux quanta for N_e= 6 electrons\n"
     ]
    }
   ],
   "source": [
    "#simulation parameters\n",
    "#for MR_Pf state, v=5/2 and S=3\n",
    "#N_phi=2(N_e)-3 for LL=2\n",
    "N = 6\n",
    "filling_factor_inv = 3\n",
    "top_shift=3\n",
    "Nphi = filling_factor_inv*N-top_shift\n",
    "\n",
    "print('N_phi=',Nphi, 'flux quanta for N_e=',N,'electrons')"
   ]
  },
  {
   "cell_type": "code",
   "execution_count": 39,
   "metadata": {},
   "outputs": [
    {
     "name": "stdout",
     "output_type": "stream",
     "text": [
      "========Initializing possible states in spherical geometry========\n",
      "completed in 0.02862691879272461 seconds\n",
      "N = 6 electrons\n",
      "Nphi = 15 flux quanta\n",
      "\n",
      "========Constructing total angular momentum matrix========\n",
      "completed in 0.2389521598815918 seconds\n"
     ]
    }
   ],
   "source": [
    "#initialization (system configurations and parameters)\n",
    "system = system(N, Nphi,0,L2=True)\n",
    "#print(system.Q)\n",
    "#print(system.L2.A)\n"
   ]
  },
  {
   "cell_type": "code",
   "execution_count": 40,
   "metadata": {},
   "outputs": [
    {
     "name": "stdout",
     "output_type": "stream",
     "text": [
      "========Initializing interaction matrix========\n",
      "Working on interaction matrix: 0.0 %\n",
      "Working on interaction matrix: 6.25 %\n",
      "Working on interaction matrix: 12.5 %\n",
      "Working on interaction matrix: 18.75 %\n",
      "Working on interaction matrix: 25.0 %\n",
      "Working on interaction matrix: 31.25 %\n",
      "Working on interaction matrix: 37.5 %\n",
      "Working on interaction matrix: 43.75 %\n",
      "Working on interaction matrix: 50.0 %\n",
      "Working on interaction matrix: 56.25 %\n",
      "Working on interaction matrix: 62.5 %\n",
      "Working on interaction matrix: 68.75 %\n",
      "Working on interaction matrix: 75.0 %\n",
      "Working on interaction matrix: 81.25 %\n",
      "Working on interaction matrix: 87.5 %\n",
      "Working on interaction matrix: 93.75 %\n",
      "completed in  25.74385118484497 seconds\n",
      "\n",
      "========Initializing two-body pseudopotential========\n",
      "completed in 0.1649942398071289 seconds\n",
      "pseudopotential: [0.94077784 0.47810022 0.36465271 0.30920844 0.27547661 0.25260685\n",
      " 0.2360966  0.22370669 0.21418726 0.20678325 0.20101256 0.19655552\n",
      " 0.19319559 0.19078567 0.18922823 0.18846368]\n",
      "\n",
      "========Initializing interaction matrix========\n",
      "Working on interaction matrix: 0.0 %\n",
      "Working on interaction matrix: 6.25 %\n",
      "Working on interaction matrix: 12.5 %\n",
      "Working on interaction matrix: 18.75 %\n",
      "Working on interaction matrix: 25.0 %\n",
      "Working on interaction matrix: 31.25 %\n",
      "Working on interaction matrix: 37.5 %\n",
      "Working on interaction matrix: 43.75 %\n",
      "Working on interaction matrix: 50.0 %\n",
      "Working on interaction matrix: 56.25 %\n",
      "Working on interaction matrix: 62.5 %\n",
      "Working on interaction matrix: 68.75 %\n",
      "Working on interaction matrix: 75.0 %\n",
      "Working on interaction matrix: 81.25 %\n",
      "Working on interaction matrix: 87.5 %\n",
      "Working on interaction matrix: 93.75 %\n",
      "completed in  25.858309984207153 seconds\n",
      "\n"
     ]
    }
   ],
   "source": [
    "#trial pseudopotential according to Greiter et al\n",
    "trial_pp=np.array([1,1,0,0])\n",
    "trial_pp=np.append(trial_pp, np.zeros((Nphi+1)-len(trial_pp)))\n",
    "trial_pp = haldane_pseudopotential(system.Q, LLn = 0,custom=trial_pp)\n",
    "\n",
    "#Coulomb pseudopotentials\n",
    "pp = haldane_pseudopotential(system.Q, LLn = 0)"
   ]
  },
  {
   "cell_type": "code",
   "execution_count": 41,
   "metadata": {},
   "outputs": [
    {
     "data": {
      "text/plain": [
       "Text(0.5, 1.0, 'Haldane Pseudopotentials')"
      ]
     },
     "execution_count": 41,
     "metadata": {},
     "output_type": "execute_result"
    },
    {
     "data": {
      "image/png": "[encoded data removed]",
      "text/plain": [
       "<Figure size 640x480 with 1 Axes>"
      ]
     },
     "metadata": {},
     "output_type": "display_data"
    }
   ],
   "source": [
    "ax=plt.plot(pp.m, pp.V, ls=\"none\", marker=\"o\", mfc=\"none\", label=\"$n=0$\")\n",
    "#ax=plt.plot(pp1.m, pp1.V, ls=\"none\", marker=\"o\", mfc=\"none\", label=\"$trial$\")\n",
    "#ax=plt.plot(pp1.m, pp1.V, ls=\"none\", marker=\"o\", mfc=\"none\", label=\"$trial$\")\n",
    "plt.xlabel('$m$')\n",
    "plt.ylabel('$V_m$')\n",
    "plt.title('Haldane Pseudopotentials')\n"
   ]
  },
  {
   "cell_type": "code",
   "execution_count": 54,
   "metadata": {},
   "outputs": [
    {
     "name": "stdout",
     "output_type": "stream",
     "text": [
      "========Constructing Hamiltonian of size 338 x 338 ========\n",
      "Working on interaction matrix: 0.0 %\n",
      "Working on interaction matrix: 5.029585798816568 %\n",
      "Working on interaction matrix: 10.059171597633137 %\n",
      "Working on interaction matrix: 15.088757396449704 %\n",
      "Working on interaction matrix: 20.118343195266274 %\n",
      "Working on interaction matrix: 25.14792899408284 %\n",
      "Working on interaction matrix: 30.17751479289941 %\n",
      "Working on interaction matrix: 35.20710059171598 %\n",
      "Working on interaction matrix: 40.23668639053255 %\n",
      "Working on interaction matrix: 45.26627218934911 %\n",
      "Working on interaction matrix: 50.29585798816568 %\n",
      "Working on interaction matrix: 55.325443786982255 %\n",
      "Working on interaction matrix: 60.35502958579882 %\n",
      "Working on interaction matrix: 65.38461538461539 %\n",
      "Working on interaction matrix: 70.41420118343196 %\n",
      "Working on interaction matrix: 75.44378698224851 %\n",
      "Working on interaction matrix: 80.4733727810651 %\n",
      "Working on interaction matrix: 85.50295857988166 %\n",
      "Working on interaction matrix: 90.53254437869822 %\n",
      "Working on interaction matrix: 95.56213017751479 %\n",
      "completed in 1.0139820575714111 seconds\n",
      "Energy spectrum: [-8.32667268e-15  4.00000000e+00  3.00000000e+00  6.00000000e+00\n",
      "  5.00000000e+00  2.00000000e+00 -4.38538095e-15  2.00000000e+00\n",
      "  4.00000000e+00  6.00000000e+00  8.00000000e+00  2.00000000e+00\n",
      "  4.00000000e+00  7.00000000e+00  6.00000000e+00  5.00000000e+00\n",
      "  3.00000000e+00  6.00000000e+00  9.00000000e+00  7.00000000e+00\n",
      "  8.00000000e+00  3.00000000e+00  4.00000000e+00  1.00000000e+01\n",
      "  1.00000000e+00  5.00000000e+00  6.00000000e+00  2.00000000e+00\n",
      "  4.00000000e+00  8.00000000e+00  5.00000000e+00  7.00000000e+00\n",
      "  4.00000000e+00  2.00000000e+00  6.00000000e+00 -4.99600361e-15\n",
      "  6.00000000e+00  8.00000000e+00  9.00000000e+00  3.00000000e+00\n",
      "  8.00000000e+00  1.00000000e+00  7.00000000e+00  5.00000000e+00\n",
      "  4.00000000e+00  1.00000000e+01  4.00000000e+00  3.00000000e+00\n",
      "  8.00000000e+00  6.00000000e+00  5.00000000e+00  2.00000000e+00\n",
      "  1.00000000e+01  7.00000000e+00  9.00000000e+00  1.00000000e+01\n",
      "  2.00000000e+00  9.00000000e+00  9.00000000e+00  6.00000000e+00\n",
      "  4.00000000e+00  8.00000000e+00  1.10000000e+01  1.20000000e+01\n",
      "  7.00000000e+00  6.00000000e+00  5.00000000e+00  7.00000000e+00\n",
      "  7.00000000e+00  1.00000000e+01  6.00000000e+00  3.00000000e+00\n",
      "  5.00000000e+00  9.00000000e+00  1.10000000e+01  8.00000000e+00\n",
      "  1.00000000e+01 -7.49400542e-15  4.00000000e+00  1.20000000e+01\n",
      "  8.00000000e+00  1.20000000e+01  6.00000000e+00  9.00000000e+00\n",
      "  7.00000000e+00  4.00000000e+00  6.00000000e+00  1.00000000e+01\n",
      "  1.10000000e+01  9.00000000e+00  8.00000000e+00  3.00000000e+00\n",
      "  6.00000000e+00  1.10000000e+01  1.00000000e+01  1.30000000e+01\n",
      "  7.00000000e+00  8.00000000e+00  3.00000000e+00  5.00000000e+00\n",
      "  2.00000000e+00  1.20000000e+01  9.00000000e+00  4.00000000e+00\n",
      "  1.10000000e+01  8.00000000e+00  1.00000000e+01  9.00000000e+00\n",
      "  8.00000000e+00  4.00000000e+00  1.10000000e+01  5.00000000e+00\n",
      "  1.20000000e+01  1.40000000e+01  6.00000000e+00  1.00000000e+01\n",
      "  1.30000000e+01  8.00000000e+00  1.20000000e+01  9.00000000e+00\n",
      "  1.10000000e+01  6.00000000e+00  7.00000000e+00  1.00000000e+01\n",
      "  1.30000000e+01  1.40000000e+01  2.00000000e+00  1.50000000e+01\n",
      "  1.00000000e+01  1.00000000e+01  5.00000000e+00  4.00000000e+00\n",
      " -1.16573418e-15  8.00000000e+00  7.00000000e+00  1.20000000e+01\n",
      "  9.00000000e+00  7.00000000e+00  1.10000000e+01  6.00000000e+00\n",
      "  8.00000000e+00  1.10000000e+01  1.20000000e+01  1.30000000e+01\n",
      "  9.00000000e+00  1.20000000e+01  5.00000000e+00  6.00000000e+00\n",
      "  7.00000000e+00  1.00000000e+01  1.20000000e+01  8.00000000e+00\n",
      "  1.00000000e+01  1.10000000e+01  9.00000000e+00  4.00000000e+00\n",
      "  1.30000000e+01  7.00000000e+00  6.00000000e+00  9.00000000e+00\n",
      "  8.00000000e+00  1.30000000e+01  1.10000000e+01  1.20000000e+01\n",
      "  1.40000000e+01  1.00000000e+01  1.40000000e+01  1.20000000e+01\n",
      "  9.00000000e+00  1.30000000e+01  2.00000000e+00  3.00000000e+00\n",
      "  1.50000000e+01  1.40000000e+01  8.00000000e+00  1.00000000e+01\n",
      "  1.60000000e+01  4.00000000e+00  6.00000000e+00  1.20000000e+01\n",
      "  1.30000000e+01  1.10000000e+01  5.00000000e+00  1.50000000e+01\n",
      "  1.40000000e+01  7.00000000e+00  1.20000000e+01  1.00000000e+01\n",
      "  1.40000000e+01  1.10000000e+01  1.30000000e+01  9.00000000e+00\n",
      "  8.00000000e+00  1.60000000e+01  6.00000000e+00  1.10000000e+01\n",
      "  1.00000000e+01  1.20000000e+01  7.00000000e+00  1.50000000e+01\n",
      "  1.00000000e+01  1.40000000e+01  1.30000000e+01  1.10000000e+01\n",
      "  1.20000000e+01  1.50000000e+01  1.40000000e+01  1.30000000e+01\n",
      "  8.00000000e+00  1.50000000e+01  9.00000000e+00  1.60000000e+01\n",
      "  1.40000000e+01  1.30000000e+01  8.00000000e+00  1.20000000e+01\n",
      "  1.80000000e+01  1.20000000e+01  1.50000000e+01  1.60000000e+01\n",
      " -9.04831765e-15  2.00000000e+00  1.00000000e+01  1.70000000e+01\n",
      "  9.00000000e+00  1.60000000e+01  1.20000000e+01  4.00000000e+00\n",
      "  1.40000000e+01  1.10000000e+01  1.30000000e+01  1.70000000e+01\n",
      "  1.40000000e+01  1.60000000e+01  1.50000000e+01  1.40000000e+01\n",
      "  6.00000000e+00  1.00000000e+01  1.30000000e+01  1.50000000e+01\n",
      "  1.20000000e+01  1.40000000e+01  1.70000000e+01  1.30000000e+01\n",
      "  1.60000000e+01  1.50000000e+01  8.00000000e+00  1.10000000e+01\n",
      "  1.50000000e+01  1.80000000e+01  1.60000000e+01  1.60000000e+01\n",
      "  1.20000000e+01  1.40000000e+01  1.70000000e+01  1.00000000e+01\n",
      "  1.80000000e+01  1.50000000e+01  1.40000000e+01  1.00000000e+01\n",
      "  1.70000000e+01  1.30000000e+01  1.60000000e+01  1.50000000e+01\n",
      "  1.80000000e+01  1.10000000e+01  1.70000000e+01  1.60000000e+01\n",
      "  1.90000000e+01  1.40000000e+01  1.60000000e+01  1.80000000e+01\n",
      "  1.20000000e+01  2.00000000e+01  1.20000000e+01  1.70000000e+01\n",
      "  1.90000000e+01  1.80000000e+01  1.70000000e+01  1.30000000e+01\n",
      "  1.50000000e+01  1.60000000e+01  1.40000000e+01  1.90000000e+01\n",
      "  1.80000000e+01  1.80000000e+01  1.60000000e+01  1.40000000e+01\n",
      "  2.00000000e+01  1.70000000e+01  1.50000000e+01  1.70000000e+01\n",
      "  1.90000000e+01  1.80000000e+01  1.60000000e+01  1.80000000e+01\n",
      "  2.10000000e+01  2.00000000e+01  1.90000000e+01  2.00000000e+01\n",
      "  1.60000000e+01  1.90000000e+01  2.20000000e+01  1.70000000e+01\n",
      "  2.10000000e+01  1.80000000e+01  1.80000000e+01  2.00000000e+01\n",
      "  2.10000000e+01  1.90000000e+01  2.00000000e+01  1.80000000e+01\n",
      "  1.90000000e+01  2.10000000e+01  2.00000000e+01  2.20000000e+01\n",
      "  2.20000000e+01  2.00000000e+01  2.30000000e+01  2.20000000e+01\n",
      "  2.10000000e+01  2.00000000e+01  2.10000000e+01  2.20000000e+01\n",
      "  2.40000000e+01  2.40000000e+01  2.30000000e+01  2.20000000e+01\n",
      "  2.30000000e+01  2.50000000e+01  2.40000000e+01  2.60000000e+01\n",
      "  2.50000000e+01  2.40000000e+01  2.70000000e+01  2.60000000e+01\n",
      "  2.80000000e+01  3.00000000e+01]\n"
     ]
    }
   ],
   "source": [
    "#create hamiltonian and diagonalize coulomb interaction\n",
    "hamiltonian = spherical_system(system, pp.pp_matrix)\n",
    "hamil=hamiltonian.h.A\n",
    "energies, eigenstates=LA.eigh(hamil)\n",
    "\n",
    "L2=system.L2.A\n",
    "L,ene=L_spectrum(L2,hamil)\n",
    "print('Energy spectrum:', L)"
   ]
  },
  {
   "cell_type": "code",
   "execution_count": 55,
   "metadata": {},
   "outputs": [
    {
     "data": {
      "text/plain": [
       "Text(0, 0.5, '$E$')"
      ]
     },
     "execution_count": 55,
     "metadata": {},
     "output_type": "execute_result"
    },
    {
     "data": {
      "image/png": "[encoded data removed]",
      "text/plain": [
       "<Figure size 640x480 with 1 Axes>"
      ]
     },
     "metadata": {},
     "output_type": "display_data"
    }
   ],
   "source": [
    "#plotting energetics\n",
    "\n",
    "fig, ax = plt.subplots()\n",
    "ax=plt.plot(L, ene, ls=\"none\", marker=\"_\", ms=\"12\", mew=\"1.5\")\n",
    "#plt.title('Energetics of N=8 particles, $N_{\\phi}$=21')\n",
    "\n",
    "plt.xlabel('$L$')\n",
    "plt.ylabel('$E$')\n",
    "\n",
    "#plt.savefig('energectics_n8_nphi_21.png')"
   ]
  },
  {
   "cell_type": "code",
   "execution_count": 56,
   "metadata": {},
   "outputs": [
    {
     "data": {
      "text/plain": [
       "Text(0, 0.5, '$E$')"
      ]
     },
     "execution_count": 56,
     "metadata": {},
     "output_type": "execute_result"
    },
    {
     "data": {
      "image/png": "[encoded data removed]",
      "text/plain": [
       "<Figure size 640x480 with 1 Axes>"
      ]
     },
     "metadata": {},
     "output_type": "display_data"
    }
   ],
   "source": [
    "ind=np.argsort(ene) #ensure lowest energy eigenstates are selected\n",
    "\n",
    "sorted_L=L[ind]\n",
    "sorted_ene=ene[ind]\n",
    "if len(ene)>=100: \n",
    "    sorted_L=sorted_L[:150]\n",
    "    sorted_ene=sorted_ene[:150]\n",
    "    \n",
    "#plotting energetics\n",
    "fig, ax = plt.subplots()\n",
    "ax=plt.plot(sorted_L, sorted_ene, ls=\"none\", marker=\"_\", ms=\"12\", mew=\"1.5\")\n",
    "#plt.title('Energetics of N=8 particles, $N_{\\phi}$=21')\n",
    "\n",
    "plt.xlabel('$L$')\n",
    "plt.ylabel('$E$')"
   ]
  },
  {
   "cell_type": "code",
   "execution_count": null,
   "metadata": {},
   "outputs": [
    {
     "name": "stdout",
     "output_type": "stream",
     "text": [
      "========Constructing Hamiltonian of size 18 x 18 ========\n",
      "Working on interaction matrix: 0.0 %\n",
      "Working on interaction matrix: 5.555555555555555 %\n",
      "Working on interaction matrix: 11.11111111111111 %\n",
      "Working on interaction matrix: 16.666666666666664 %\n",
      "Working on interaction matrix: 22.22222222222222 %\n",
      "Working on interaction matrix: 27.77777777777778 %\n",
      "Working on interaction matrix: 33.33333333333333 %\n",
      "Working on interaction matrix: 38.88888888888889 %\n",
      "Working on interaction matrix: 44.44444444444444 %\n",
      "Working on interaction matrix: 50.0 %\n",
      "Working on interaction matrix: 55.55555555555556 %\n",
      "Working on interaction matrix: 61.111111111111114 %\n",
      "Working on interaction matrix: 66.66666666666666 %\n",
      "Working on interaction matrix: 72.22222222222221 %\n",
      "Working on interaction matrix: 77.77777777777779 %\n",
      "Working on interaction matrix: 83.33333333333334 %\n",
      "Working on interaction matrix: 88.88888888888889 %\n",
      "Working on interaction matrix: 94.44444444444444 %\n",
      "completed in 0.013548135757446289 seconds\n",
      "Energy spectrum: [3.10862447e-15 4.00000000e+00 3.00000000e+00 2.00000000e+00\n",
      " 6.00000000e+00 5.00000000e+00 4.00000000e+00 8.00000000e+00\n",
      " 2.00000000e+00 4.77395901e-15 4.00000000e+00 6.00000000e+00\n",
      " 7.00000000e+00 6.00000000e+00 9.00000000e+00 8.00000000e+00\n",
      " 1.00000000e+01 1.20000000e+01]\n"
     ]
    }
   ],
   "source": [
    "trial_hamiltonian = spherical_system(system, trial_pp.pp_matrix)\n",
    "trial_hamil=trial_hamiltonian.h.A\n",
    "trial_energies, trial_eigenstates=LA.eigh(trial_hamil)\n",
    "\n",
    "L2=system.L2.A\n",
    "L,ene=L_spectrum(L2,trial_hamil)\n",
    "print('Energy spectrum:', L)"
   ]
  },
  {
   "cell_type": "code",
   "execution_count": null,
   "metadata": {},
   "outputs": [
    {
     "data": {
      "text/plain": [
       "Text(0, 0.5, '$E$')"
      ]
     },
     "execution_count": 22,
     "metadata": {},
     "output_type": "execute_result"
    },
    {
     "data": {
      "image/png": "[encoded data removed]",
      "text/plain": [
       "<Figure size 640x480 with 1 Axes>"
      ]
     },
     "metadata": {},
     "output_type": "display_data"
    }
   ],
   "source": [
    "#plotting energetics\n",
    "\n",
    "fig, ax = plt.subplots()\n",
    "ax=plt.plot(2*L, ene, ls=\"none\", marker=\"_\", ms=\"12\", mew=\"1.5\")\n",
    "plt.xlim(-1, 40)\n",
    "\n",
    "#plt.title('Energetics of N=8 particles, $N_{\\phi}$=21')\n",
    "\n",
    "plt.xlabel('$L$')\n",
    "plt.ylabel('$E$')\n",
    "\n",
    "#plt.savefig('energectics_n8_nphi_21.png')"
   ]
  },
  {
   "cell_type": "code",
   "execution_count": null,
   "metadata": {},
   "outputs": [
    {
     "name": "stdout",
     "output_type": "stream",
     "text": [
      "overlap of wavefunciton <Ψtrial|Ψexact>= 0.9980393413833781\n"
     ]
    },
    {
     "data": {
      "text/plain": [
       "0.9980393413833781"
      ]
     },
     "execution_count": 23,
     "metadata": {},
     "output_type": "execute_result"
    }
   ],
   "source": [
    "overlap_Vectors(np.transpose(trial_eigenstates)[0],np.transpose(eigenstates)[0])"
   ]
  },
  {
   "cell_type": "code",
   "execution_count": 8,
   "metadata": {},
   "outputs": [
    {
     "ename": "NameError",
     "evalue": "name 'ene' is not defined",
     "output_type": "error",
     "traceback": [
      "\u001b[0;31m---------------------------------------------------------------------------\u001b[0m",
      "\u001b[0;31mNameError\u001b[0m                                 Traceback (most recent call last)",
      "\u001b[1;32m/Users/logange/Projects/FQHE_Haldane/laughlin_notebook/laughlin_state.ipynb Cell 11\u001b[0m in \u001b[0;36m1\n\u001b[0;32m----> <a href='vscode-notebook-cell:/Users/logange/Projects/FQHE_Haldane/laughlin_notebook/laughlin_state.ipynb#X13sZmlsZQ%3D%3D?line=0'>1</a>\u001b[0m ene\n",
      "\u001b[0;31mNameError\u001b[0m: name 'ene' is not defined"
     ]
    }
   ],
   "source": [
    "ene"
   ]
  },
  {
   "cell_type": "code",
   "execution_count": null,
   "metadata": {},
   "outputs": [],
   "source": []
  }
 ],
 "metadata": {
  "kernelspec": {
   "display_name": "base",
   "language": "python",
   "name": "python3"
  },
  "language_info": {
   "codemirror_mode": {
    "name": "ipython",
    "version": 3
   },
   "file_extension": ".py",
   "mimetype": "text/x-python",
   "name": "python",
   "nbconvert_exporter": "python",
   "pygments_lexer": "ipython3",
   "version": "3.9.12"
  },
  "orig_nbformat": 4,
  "vscode": {
   "interpreter": {
    "hash": "3ae8873d700d0a270a8fd45f82244049f96d19b00f8a70a161790085889ce277"
   }
  }
 },
 "nbformat": 4,
 "nbformat_minor": 2
}
