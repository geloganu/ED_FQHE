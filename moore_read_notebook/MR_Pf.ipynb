{
 "cells": [
  {
   "cell_type": "code",
   "execution_count": 13,
   "metadata": {},
   "outputs": [],
   "source": [
    "import numpy as np\n",
    "import scipy.linalg as LA\n",
    "import matplotlib.pyplot as plt\n",
    "\n",
    "import sys\n",
    "sys.path.insert(0, '../src')\n",
    "\n",
    "from hamiltonian import *\n",
    "from misc import *\n",
    "from haldane_pseudopotential import *"
   ]
  },
  {
   "cell_type": "code",
   "execution_count": 14,
   "metadata": {},
   "outputs": [
    {
     "name": "stdout",
     "output_type": "stream",
     "text": [
      "N_phi= 9 flux quanta for N_e= 6 electrons\n"
     ]
    }
   ],
   "source": [
    "#simulation parameters\n",
    "#for MR_Pf state, v=5/2 and S=3\n",
    "#N_phi=2(N_e)-3 for LL=2\n",
    "N = 6\n",
    "filling_factor_inv = 2\n",
    "top_shift=3\n",
    "Nphi = filling_factor_inv*N-top_shift\n",
    "\n",
    "print('N_phi=',Nphi, 'flux quanta for N_e=',N,'electrons')"
   ]
  },
  {
   "cell_type": "code",
   "execution_count": 15,
   "metadata": {},
   "outputs": [
    {
     "name": "stdout",
     "output_type": "stream",
     "text": [
      "========Initializing possible states in spherical geometry========\n",
      "completed in 0.0016021728515625 seconds\n",
      "N = 6 electrons\n",
      "Nphi = 9 flux quanta\n",
      "\n",
      "========Constructing total angular momentum matrix========\n",
      "completed in 0.008606195449829102 seconds\n"
     ]
    }
   ],
   "source": [
    "#initialization (system configurations and parameters)\n",
    "system = system(N, Nphi,0,True)"
   ]
  },
  {
   "cell_type": "code",
   "execution_count": 16,
   "metadata": {},
   "outputs": [
    {
     "name": "stdout",
     "output_type": "stream",
     "text": [
      "========Initializing interaction matrix========\n",
      "Working on interaction matrix: 0.0 %\n",
      "Working on interaction matrix: 10.0 %\n",
      "Working on interaction matrix: 20.0 %\n",
      "Working on interaction matrix: 30.0 %\n",
      "Working on interaction matrix: 40.0 %\n",
      "Working on interaction matrix: 50.0 %\n",
      "Working on interaction matrix: 60.0 %\n",
      "Working on interaction matrix: 70.0 %\n",
      "Working on interaction matrix: 80.0 %\n",
      "Working on interaction matrix: 90.0 %\n",
      "completed in  1.5989267826080322 seconds\n",
      "\n",
      "========Initializing two-body pseudopotential========\n",
      "completed in 0.03240489959716797 seconds\n",
      "pseudopotential: [0.69882403 0.49436929 0.57597465 0.41035066 0.35353421 0.32211311\n",
      " 0.30258393 0.29017715 0.282743   0.27924272]\n",
      "\n",
      "========Initializing interaction matrix========\n",
      "Working on interaction matrix: 0.0 %\n",
      "Working on interaction matrix: 10.0 %\n",
      "Working on interaction matrix: 20.0 %\n",
      "Working on interaction matrix: 30.0 %\n",
      "Working on interaction matrix: 40.0 %\n",
      "Working on interaction matrix: 50.0 %\n",
      "Working on interaction matrix: 60.0 %\n",
      "Working on interaction matrix: 70.0 %\n",
      "Working on interaction matrix: 80.0 %\n",
      "Working on interaction matrix: 90.0 %\n",
      "completed in  1.6296069622039795 seconds\n",
      "\n"
     ]
    }
   ],
   "source": [
    "#pseudopotentials\n",
    "\n",
    "#trial pseudopotential according to Greiter et al\n",
    "trial_pp=np.array([0,1,0,1])\n",
    "trial_pp=np.append(trial_pp, np.zeros((Nphi+1)-len(trial_pp)))\n",
    "trial_pp = haldane_pseudopotential(system.Q, LLn = 1,custom=trial_pp)\n",
    "\n",
    "#Coulomb pseudopotentials\n",
    "pp = haldane_pseudopotential(system.Q, LLn = 1)"
   ]
  },
  {
   "cell_type": "code",
   "execution_count": 17,
   "metadata": {},
   "outputs": [
    {
     "data": {
      "text/plain": [
       "Text(0.5, 1.0, 'Haldane Pseudopotentials')"
      ]
     },
     "execution_count": 17,
     "metadata": {},
     "output_type": "execute_result"
    },
    {
     "data": {
      "image/png": "[encoded data removed]",
      "text/plain": [
       "<Figure size 640x480 with 1 Axes>"
      ]
     },
     "metadata": {},
     "output_type": "display_data"
    }
   ],
   "source": [
    "ax=plt.plot(pp.m, pp.V, ls=\"none\", marker=\"o\", mfc=\"none\", label=\"$n=0$\")\n",
    "#ax=plt.plot(pp1.m, pp1.V, ls=\"none\", marker=\"o\", mfc=\"none\", label=\"$trial$\")\n",
    "#ax=plt.plot(pp1.m, pp1.V, ls=\"none\", marker=\"o\", mfc=\"none\", label=\"$trial$\")\n",
    "plt.xlabel('$m$')\n",
    "plt.ylabel('$V_m$')\n",
    "plt.title('Haldane Pseudopotentials')"
   ]
  },
  {
   "cell_type": "code",
   "execution_count": 18,
   "metadata": {},
   "outputs": [
    {
     "name": "stdout",
     "output_type": "stream",
     "text": [
      "========Constructing Hamiltonian of size 18 x 18 ========\n",
      "Working on interaction matrix: 0.0 %\n",
      "Working on interaction matrix: 5.555555555555555 %\n",
      "Working on interaction matrix: 11.11111111111111 %\n",
      "Working on interaction matrix: 16.666666666666664 %\n",
      "Working on interaction matrix: 22.22222222222222 %\n",
      "Working on interaction matrix: 27.77777777777778 %\n",
      "Working on interaction matrix: 33.33333333333333 %\n",
      "Working on interaction matrix: 38.88888888888889 %\n",
      "Working on interaction matrix: 44.44444444444444 %\n",
      "Working on interaction matrix: 50.0 %\n",
      "Working on interaction matrix: 55.55555555555556 %\n",
      "Working on interaction matrix: 61.111111111111114 %\n",
      "Working on interaction matrix: 66.66666666666666 %\n",
      "Working on interaction matrix: 72.22222222222221 %\n",
      "Working on interaction matrix: 77.77777777777779 %\n",
      "Working on interaction matrix: 83.33333333333334 %\n",
      "Working on interaction matrix: 88.88888888888889 %\n",
      "Working on interaction matrix: 94.44444444444444 %\n",
      "completed in 0.02020883560180664 seconds\n",
      "Energy spectrum: [2.55351296e-15 2.00000000e+00 2.00000000e+00 3.00000000e+00\n",
      " 3.55271368e-15 4.00000000e+00 4.00000000e+00 4.00000000e+00\n",
      " 5.00000000e+00 6.00000000e+00 6.00000000e+00 6.00000000e+00\n",
      " 7.00000000e+00 8.00000000e+00 8.00000000e+00 9.00000000e+00\n",
      " 1.00000000e+01 1.20000000e+01]\n"
     ]
    }
   ],
   "source": [
    "#create hamiltonian and diagonalize coulomb interaction\n",
    "hamiltonian = spherical_system(system, pp.pp_matrix)\n",
    "hamil=hamiltonian.h.A\n",
    "energies, eigenstates=LA.eigh(hamil)\n",
    "\n",
    "L2=system.L2.A\n",
    "L,ene=L_spectrum(L2,hamil)\n",
    "print('Energy spectrum:', L)"
   ]
  },
  {
   "cell_type": "code",
   "execution_count": 19,
   "metadata": {},
   "outputs": [
    {
     "data": {
      "text/plain": [
       "Text(0, 0.5, '$E$')"
      ]
     },
     "execution_count": 19,
     "metadata": {},
     "output_type": "execute_result"
    },
    {
     "data": {
      "image/png": "[encoded data removed]",
      "text/plain": [
       "<Figure size 640x480 with 1 Axes>"
      ]
     },
     "metadata": {},
     "output_type": "display_data"
    }
   ],
   "source": [
    "#plotting energetics\n",
    "\n",
    "fig, ax = plt.subplots()\n",
    "ax=plt.plot(L, ene, ls=\"none\", marker=\"_\", ms=\"12\", mew=\"1.5\")\n",
    "plt.xlim(-1, 15)\n",
    "plt.ylim(-0.01, 0.27)\n",
    "#plt.title('Energetics of N=8 particles, $N_{\\phi}$=21')\n",
    "\n",
    "plt.xlabel('$L$')\n",
    "plt.ylabel('$E$')\n",
    "\n",
    "#plt.savefig('energectics_n8_nphi_21.png')"
   ]
  },
  {
   "cell_type": "code",
   "execution_count": 20,
   "metadata": {},
   "outputs": [
    {
     "name": "stdout",
     "output_type": "stream",
     "text": [
      "========Constructing Hamiltonian of size 18 x 18 ========\n",
      "Working on interaction matrix: 0.0 %\n",
      "Working on interaction matrix: 5.555555555555555 %\n",
      "Working on interaction matrix: 11.11111111111111 %\n",
      "Working on interaction matrix: 16.666666666666664 %\n",
      "Working on interaction matrix: 22.22222222222222 %\n",
      "Working on interaction matrix: 27.77777777777778 %\n",
      "Working on interaction matrix: 33.33333333333333 %\n",
      "Working on interaction matrix: 38.88888888888889 %\n",
      "Working on interaction matrix: 44.44444444444444 %\n",
      "Working on interaction matrix: 50.0 %\n",
      "Working on interaction matrix: 55.55555555555556 %\n",
      "Working on interaction matrix: 61.111111111111114 %\n",
      "Working on interaction matrix: 66.66666666666666 %\n",
      "Working on interaction matrix: 72.22222222222221 %\n",
      "Working on interaction matrix: 77.77777777777779 %\n",
      "Working on interaction matrix: 83.33333333333334 %\n",
      "Working on interaction matrix: 88.88888888888889 %\n",
      "Working on interaction matrix: 94.44444444444444 %\n",
      "completed in 0.01938486099243164 seconds\n",
      "Energy spectrum: [1.11022302e-15 2.00000000e+00 4.00000000e+00 6.00000000e+00\n",
      " 4.00000000e+00 5.33369187e+00 4.02416171e+00 2.00000000e+00\n",
      " 5.00000000e+00 8.00000000e+00 7.00000000e+00 4.00000000e+00\n",
      " 6.00000000e+00 1.99840144e-15 9.00000000e+00 1.00000000e+01\n",
      " 8.00000000e+00 1.20000000e+01]\n"
     ]
    }
   ],
   "source": [
    "trial_hamiltonian = spherical_system(system, trial_pp.pp_matrix)\n",
    "trial_hamil=trial_hamiltonian.h.A\n",
    "trial_energies, trial_eigenstates=LA.eigh(trial_hamil)\n",
    "\n",
    "L2=system.L2.A\n",
    "L,ene=L_spectrum(L2,trial_hamil)\n",
    "print('Energy spectrum:', L)"
   ]
  },
  {
   "cell_type": "code",
   "execution_count": 21,
   "metadata": {},
   "outputs": [
    {
     "data": {
      "text/plain": [
       "Text(0, 0.5, '$E$')"
      ]
     },
     "execution_count": 21,
     "metadata": {},
     "output_type": "execute_result"
    },
    {
     "data": {
      "image/png": "[encoded data removed]",
      "text/plain": [
       "<Figure size 640x480 with 1 Axes>"
      ]
     },
     "metadata": {},
     "output_type": "display_data"
    }
   ],
   "source": [
    "#plotting energetics\n",
    "\n",
    "fig, ax = plt.subplots()\n",
    "ax=plt.plot(2*L, ene, ls=\"none\", marker=\"_\", ms=\"12\", mew=\"1.5\")\n",
    "plt.xlim(-1, 15)\n",
    "plt.ylim(-0.01,2)\n",
    "#plt.title('Energetics of N=8 particles, $N_{\\phi}$=21')\n",
    "\n",
    "plt.xlabel('$L$')\n",
    "plt.ylabel('$E$')\n",
    "\n",
    "#plt.savefig('energectics_n8_nphi_21.png')"
   ]
  },
  {
   "cell_type": "code",
   "execution_count": 22,
   "metadata": {},
   "outputs": [
    {
     "name": "stdout",
     "output_type": "stream",
     "text": [
      "overlap of wavefunciton <Ψtrial|Ψexact>= 0.9856922828033863\n"
     ]
    }
   ],
   "source": [
    "overlap=overlap_Vectors(np.transpose(trial_eigenstates)[0],np.transpose(eigenstates)[0])"
   ]
  },
  {
   "cell_type": "code",
   "execution_count": null,
   "metadata": {},
   "outputs": [],
   "source": []
  }
 ],
 "metadata": {
  "kernelspec": {
   "display_name": "base",
   "language": "python",
   "name": "python3"
  },
  "language_info": {
   "codemirror_mode": {
    "name": "ipython",
    "version": 3
   },
   "file_extension": ".py",
   "mimetype": "text/x-python",
   "name": "python",
   "nbconvert_exporter": "python",
   "pygments_lexer": "ipython3",
   "version": "3.9.12"
  },
  "orig_nbformat": 4,
  "vscode": {
   "interpreter": {
    "hash": "3ae8873d700d0a270a8fd45f82244049f96d19b00f8a70a161790085889ce277"
   }
  }
 },
 "nbformat": 4,
 "nbformat_minor": 2
}
