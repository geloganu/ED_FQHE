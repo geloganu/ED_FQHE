{
 "cells": [
  {
   "cell_type": "code",
   "execution_count": 13,
   "metadata": {},
   "outputs": [],
   "source": [
    "import numpy as np\n",
    "import scipy.linalg as LA\n",
    "import matplotlib.pyplot as plt\n",
    "\n",
    "import sys\n",
    "sys.path.insert(0, '../src')\n",
    "\n",
    "from hamiltonian import *\n",
    "from misc import *\n",
    "from haldane_pseudopotential import *"
   ]
  },
  {
   "cell_type": "code",
   "execution_count": 2,
   "metadata": {},
   "outputs": [
    {
     "name": "stdout",
     "output_type": "stream",
     "text": [
      "N_phi= 9 flux quanta for N_e= 6 electrons\n"
     ]
    }
   ],
   "source": [
    "#simulation parameters\n",
    "#for MR_Pf state, v=5/2 and S=3\n",
    "#N_phi=2(N_e)-3 for LL=2\n",
    "N = 6\n",
    "filling_factor_inv = 2\n",
    "top_shift=3\n",
    "Nphi = filling_factor_inv*N-top_shift\n",
    "\n",
    "print('N_phi=',Nphi, 'flux quanta for N_e=',N,'electrons')"
   ]
  },
  {
   "cell_type": "code",
   "execution_count": 3,
   "metadata": {},
   "outputs": [
    {
     "name": "stdout",
     "output_type": "stream",
     "text": [
      "========Initializing possible states in spherical geometry========\n",
      "completed in 0.0020842552185058594 seconds\n",
      "N = 6 electrons\n",
      "Nphi = 9 flux quanta\n",
      "\n",
      "========Constructing total angular momentum matrix========\n",
      " \n",
      "completed in 0.009616851806640625 seconds\n"
     ]
    }
   ],
   "source": [
    "#initialization (system configurations and parameters)\n",
    "system = system(N, Nphi,0,True)"
   ]
  },
  {
   "cell_type": "code",
   "execution_count": 4,
   "metadata": {},
   "outputs": [
    {
     "name": "stdout",
     "output_type": "stream",
     "text": [
      "========Initializing interaction matrix========\n",
      "Working on interaction matrix: 0.0 %\n",
      "Working on interaction matrix: 10.0 %\n",
      "Working on interaction matrix: 20.0 %\n",
      "Working on interaction matrix: 30.0 %\n",
      "Working on interaction matrix: 40.0 %\n",
      "Working on interaction matrix: 50.0 %\n",
      "Working on interaction matrix: 60.0 %\n",
      "Working on interaction matrix: 70.0 %\n",
      "Working on interaction matrix: 80.0 %\n",
      "Working on interaction matrix: 90.0 %\n",
      "completed in  1.5939509868621826 seconds\n",
      "\n",
      "========Initializing two-body pseudopotential========\n",
      "completed in 0.051965951919555664 seconds\n",
      "pseudopotential: [0.69882403 0.49436929 0.57597465 0.41035066 0.35353421 0.32211311\n",
      " 0.30258393 0.29017715 0.282743   0.27924272]\n",
      "\n",
      "========Initializing interaction matrix========\n",
      "Working on interaction matrix: 0.0 %\n",
      "Working on interaction matrix: 10.0 %\n",
      "Working on interaction matrix: 20.0 %\n",
      "Working on interaction matrix: 30.0 %\n",
      "Working on interaction matrix: 40.0 %\n",
      "Working on interaction matrix: 50.0 %\n",
      "Working on interaction matrix: 60.0 %\n",
      "Working on interaction matrix: 70.0 %\n",
      "Working on interaction matrix: 80.0 %\n",
      "Working on interaction matrix: 90.0 %\n",
      "completed in  1.6102581024169922 seconds\n",
      "\n"
     ]
    }
   ],
   "source": [
    "#pseudopotentials\n",
    "\n",
    "#trial pseudopotential according to Greiter et al\n",
    "trial_pp=np.array([0,1,0,1])\n",
    "trial_pp=np.append(trial_pp, np.zeros((Nphi+1)-len(trial_pp)))\n",
    "trial_pp = haldane_pseudopotential(system.Q, LLn = 1,custom=trial_pp)\n",
    "\n",
    "#Coulomb pseudopotentials\n",
    "pp = haldane_pseudopotential(system.Q, LLn = 1)"
   ]
  },
  {
   "cell_type": "code",
   "execution_count": 5,
   "metadata": {},
   "outputs": [
    {
     "data": {
      "text/plain": [
       "Text(0.5, 1.0, 'Haldane Pseudopotentials')"
      ]
     },
     "execution_count": 5,
     "metadata": {},
     "output_type": "execute_result"
    },
    {
     "data": {
      "image/png": "[encoded data removed]",
      "text/plain": [
       "<Figure size 640x480 with 1 Axes>"
      ]
     },
     "metadata": {},
     "output_type": "display_data"
    }
   ],
   "source": [
    "ax=plt.plot(pp.m, pp.V, ls=\"none\", marker=\"o\", mfc=\"none\", label=\"$n=0$\")\n",
    "#ax=plt.plot(pp1.m, pp1.V, ls=\"none\", marker=\"o\", mfc=\"none\", label=\"$trial$\")\n",
    "#ax=plt.plot(pp1.m, pp1.V, ls=\"none\", marker=\"o\", mfc=\"none\", label=\"$trial$\")\n",
    "plt.xlabel('$m$')\n",
    "plt.ylabel('$V_m$')\n",
    "plt.title('Haldane Pseudopotentials')"
   ]
  },
  {
   "cell_type": "code",
   "execution_count": 6,
   "metadata": {},
   "outputs": [
    {
     "name": "stdout",
     "output_type": "stream",
     "text": [
      "========Constructing Hamiltonian of size 18 x 18 ========\n",
      "Working on interaction matrix: 0.0 %\n",
      "Working on interaction matrix: 5.555555555555555 %\n",
      "Working on interaction matrix: 11.11111111111111 %\n",
      "Working on interaction matrix: 16.666666666666664 %\n",
      "Working on interaction matrix: 22.22222222222222 %\n",
      "Working on interaction matrix: 27.77777777777778 %\n",
      "Working on interaction matrix: 33.33333333333333 %\n",
      "Working on interaction matrix: 38.88888888888889 %\n",
      "Working on interaction matrix: 44.44444444444444 %\n",
      "Working on interaction matrix: 50.0 %\n",
      "Working on interaction matrix: 55.55555555555556 %\n",
      "Working on interaction matrix: 61.111111111111114 %\n",
      "Working on interaction matrix: 66.66666666666666 %\n",
      "Working on interaction matrix: 72.22222222222221 %\n",
      "Working on interaction matrix: 77.77777777777779 %\n",
      "Working on interaction matrix: 83.33333333333334 %\n",
      "Working on interaction matrix: 88.88888888888889 %\n",
      "Working on interaction matrix: 94.44444444444444 %\n",
      "completed in 0.01988506317138672 seconds\n",
      "\n",
      "Energy spectrum: [2.55351296e-15 2.00000000e+00 2.00000000e+00 3.00000000e+00\n",
      " 3.55271368e-15 4.00000000e+00 4.00000000e+00 4.00000000e+00\n",
      " 5.00000000e+00 6.00000000e+00 6.00000000e+00 6.00000000e+00\n",
      " 7.00000000e+00 8.00000000e+00 8.00000000e+00 9.00000000e+00\n",
      " 1.00000000e+01 1.20000000e+01]\n"
     ]
    }
   ],
   "source": [
    "#create hamiltonian and diagonalize coulomb interaction\n",
    "hamiltonian = spherical_system(system, pp.pp_matrix)\n",
    "hamil=hamiltonian.h.A\n",
    "energies, eigenstates=LA.eigh(hamil)\n",
    "\n",
    "L2=system.L2.A\n",
    "L,ene=L_spectrum(L2,hamil)\n",
    "print('Energy spectrum:', L)"
   ]
  },
  {
   "cell_type": "code",
   "execution_count": 7,
   "metadata": {},
   "outputs": [
    {
     "data": {
      "text/plain": [
       "Text(0, 0.5, '$E$')"
      ]
     },
     "execution_count": 7,
     "metadata": {},
     "output_type": "execute_result"
    },
    {
     "data": {
      "image/png": "[encoded data removed]",
      "text/plain": [
       "<Figure size 640x480 with 1 Axes>"
      ]
     },
     "metadata": {},
     "output_type": "display_data"
    }
   ],
   "source": [
    "#plotting energetics\n",
    "\n",
    "fig, ax = plt.subplots()\n",
    "ax=plt.plot(L, ene, ls=\"none\", marker=\"_\", ms=\"12\", mew=\"1.5\")\n",
    "plt.xlim(-1, 15)\n",
    "plt.ylim(-0.01, 0.27)\n",
    "#plt.title('Energetics of N=8 particles, $N_{\\phi}$=21')\n",
    "\n",
    "plt.xlabel('$L$')\n",
    "plt.ylabel('$E$')\n",
    "\n",
    "#plt.savefig('energectics_n8_nphi_21.png')"
   ]
  },
  {
   "cell_type": "code",
   "execution_count": 8,
   "metadata": {},
   "outputs": [
    {
     "name": "stdout",
     "output_type": "stream",
     "text": [
      "========Constructing Hamiltonian of size 18 x 18 ========\n",
      "Working on interaction matrix: 0.0 %\n",
      "Working on interaction matrix: 5.555555555555555 %\n",
      "Working on interaction matrix: 11.11111111111111 %\n",
      "Working on interaction matrix: 16.666666666666664 %\n",
      "Working on interaction matrix: 22.22222222222222 %\n",
      "Working on interaction matrix: 27.77777777777778 %\n",
      "Working on interaction matrix: 33.33333333333333 %\n",
      "Working on interaction matrix: 38.88888888888889 %\n",
      "Working on interaction matrix: 44.44444444444444 %\n",
      "Working on interaction matrix: 50.0 %\n",
      "Working on interaction matrix: 55.55555555555556 %\n",
      "Working on interaction matrix: 61.111111111111114 %\n",
      "Working on interaction matrix: 66.66666666666666 %\n",
      "Working on interaction matrix: 72.22222222222221 %\n",
      "Working on interaction matrix: 77.77777777777779 %\n",
      "Working on interaction matrix: 83.33333333333334 %\n",
      "Working on interaction matrix: 88.88888888888889 %\n",
      "Working on interaction matrix: 94.44444444444444 %\n",
      "completed in 0.01804208755493164 seconds\n",
      "\n",
      "Energy spectrum: [1.11022302e-15 2.00000000e+00 4.00000000e+00 6.00000000e+00\n",
      " 4.00000000e+00 5.33369187e+00 4.02416171e+00 2.00000000e+00\n",
      " 5.00000000e+00 8.00000000e+00 7.00000000e+00 4.00000000e+00\n",
      " 6.00000000e+00 1.99840144e-15 9.00000000e+00 1.00000000e+01\n",
      " 8.00000000e+00 1.20000000e+01]\n"
     ]
    }
   ],
   "source": [
    "trial_hamiltonian = spherical_system(system, trial_pp.pp_matrix)\n",
    "trial_hamil=trial_hamiltonian.h.A\n",
    "trial_energies, trial_eigenstates=LA.eigh(trial_hamil)\n",
    "\n",
    "L2=system.L2.A\n",
    "L,ene=L_spectrum(L2,trial_hamil)\n",
    "print('Energy spectrum:', L)"
   ]
  },
  {
   "cell_type": "code",
   "execution_count": 9,
   "metadata": {},
   "outputs": [
    {
     "data": {
      "text/plain": [
       "Text(0, 0.5, '$E$')"
      ]
     },
     "execution_count": 9,
     "metadata": {},
     "output_type": "execute_result"
    },
    {
     "data": {
      "image/png": "[encoded data removed]",
      "text/plain": [
       "<Figure size 640x480 with 1 Axes>"
      ]
     },
     "metadata": {},
     "output_type": "display_data"
    }
   ],
   "source": [
    "#plotting energetics\n",
    "\n",
    "fig, ax = plt.subplots()\n",
    "ax=plt.plot(2*L, ene, ls=\"none\", marker=\"_\", ms=\"12\", mew=\"1.5\")\n",
    "plt.xlim(-1, 15)\n",
    "plt.ylim(-0.01,2)\n",
    "#plt.title('Energetics of N=8 particles, $N_{\\phi}$=21')\n",
    "\n",
    "plt.xlabel('$L$')\n",
    "plt.ylabel('$E$')\n",
    "\n",
    "#plt.savefig('energectics_n8_nphi_21.png')"
   ]
  },
  {
   "cell_type": "code",
   "execution_count": 10,
   "metadata": {},
   "outputs": [
    {
     "name": "stdout",
     "output_type": "stream",
     "text": [
      "overlap of wavefunciton <Ψtrial|Ψexact>= 0.9856922828033863\n"
     ]
    }
   ],
   "source": [
    "overlap=overlap_Vectors(np.transpose(trial_eigenstates)[0],np.transpose(eigenstates)[0])"
   ]
  },
  {
   "attachments": {},
   "cell_type": "markdown",
   "metadata": {},
   "source": [
    "# Entanglement Spectrum"
   ]
  },
  {
   "cell_type": "code",
   "execution_count": 197,
   "metadata": {},
   "outputs": [],
   "source": [
    "def entanglement_spectrum(psi, system, subsystemA, NA, LzAvec):\n",
    "    psi = psi/LA.norm(psi)\n",
    "    dim=len(psi)\n",
    "\n",
    "    IAlist = np.zeros(psi.shape[0], dtype=int)\n",
    "    NAlist = np.zeros(psi.shape[0], dtype=int)\n",
    "    LzAlist = np.zeros(psi.shape[0], dtype=float)\n",
    "    mzA = system.mzvals[subsystemA]\n",
    "\n",
    "    for i in range(0,dim):\n",
    "        nsA = system.occ_orbitals_nlist[i][subsystemA]\n",
    "        IAlist[i] = I(nsA)\n",
    "        NAlist[i] = np.sum(nsA)\n",
    "        LzAlist[i] = np.dot(mzA, nsA)\n",
    "    \n",
    "    print(f\"Calculating entanglement spectrum for NA = {NA}, LzA = {LzAvec} ...\")\n",
    "\n",
    "    ent_spectrum = np.zeros((0, 2), dtype=float)\n",
    "\n",
    "    for LzA in LzAvec:\n",
    "        print('iteration')\n",
    "        strip_inds = np.intersect1d(np.where(NAlist == NA), np.where(LzAlist == LzA))\n",
    "        IAlist_stripped = IAlist[strip_inds]\n",
    "        sort_inds = np.argsort(IAlist_stripped)\n",
    "        IAlist_stripped = IAlist_stripped[sort_inds]\n",
    "\n",
    "        psi_stripped = psi[strip_inds][sort_inds]\n",
    "\n",
    "        nc = np.sum(IAlist_stripped == IAlist_stripped[0])\n",
    "        nr = int(psi_stripped.shape[0] / nc)\n",
    "        psi_matrix = psi_stripped.reshape((nr, nc)).T\n",
    "\n",
    "        rhoA = np.dot(psi_matrix, psi_matrix.T)\n",
    "        evals = LA.eigvals(rhoA)\n",
    "        xi = -np.log(evals[np.where(evals > 0)])\n",
    "\n",
    "        spent_spectrumec = np.vstack((spec, np.hstack((np.full((len(xi), 1), LzA), np.sort(xi).reshape(-1, 1)))))\n",
    "\n",
    "    return ent_spectrum"
   ]
  },
  {
   "cell_type": "code",
   "execution_count": 15,
   "metadata": {},
   "outputs": [
    {
     "ename": "AttributeError",
     "evalue": "type object 'system' has no attribute 'mzvals'",
     "output_type": "error",
     "traceback": [
      "\u001b[0;31m---------------------------------------------------------------------------\u001b[0m",
      "\u001b[0;31mAttributeError\u001b[0m                            Traceback (most recent call last)",
      "\u001b[1;32m/Users/logange/Projects/FQHE_Haldane/notebook_MR/MR_Pf.ipynb Cell 13\u001b[0m in \u001b[0;36m1\n\u001b[0;32m----> <a href='vscode-notebook-cell:/Users/logange/Projects/FQHE_Haldane/notebook_MR/MR_Pf.ipynb#X30sZmlsZQ%3D%3D?line=0'>1</a>\u001b[0m system\u001b[39m.\u001b[39mmzvals\n",
      "\u001b[0;31mAttributeError\u001b[0m: type object 'system' has no attribute 'mzvals'"
     ]
    }
   ],
   "source": [
    "system.mzvals"
   ]
  },
  {
   "cell_type": "code",
   "execution_count": 14,
   "metadata": {},
   "outputs": [
    {
     "ename": "AttributeError",
     "evalue": "type object 'system' has no attribute 'mzvals'",
     "output_type": "error",
     "traceback": [
      "\u001b[0;31m---------------------------------------------------------------------------\u001b[0m",
      "\u001b[0;31mAttributeError\u001b[0m                            Traceback (most recent call last)",
      "\u001b[1;32m/Users/logange/Projects/FQHE_Haldane/notebook_MR/MR_Pf.ipynb Cell 13\u001b[0m in \u001b[0;36m2\n\u001b[1;32m      <a href='vscode-notebook-cell:/Users/logange/Projects/FQHE_Haldane/notebook_MR/MR_Pf.ipynb#X15sZmlsZQ%3D%3D?line=0'>1</a>\u001b[0m Norb\u001b[39m=\u001b[39mNphi\u001b[39m+\u001b[39m\u001b[39m1\u001b[39m\n\u001b[0;32m----> <a href='vscode-notebook-cell:/Users/logange/Projects/FQHE_Haldane/notebook_MR/MR_Pf.ipynb#X15sZmlsZQ%3D%3D?line=1'>2</a>\u001b[0m mzvals\u001b[39m=\u001b[39msystem\u001b[39m.\u001b[39mmzvals\n\u001b[1;32m      <a href='vscode-notebook-cell:/Users/logange/Projects/FQHE_Haldane/notebook_MR/MR_Pf.ipynb#X15sZmlsZQ%3D%3D?line=3'>4</a>\u001b[0m subsystemA \u001b[39m=\u001b[39m np\u001b[39m.\u001b[39marange((Norb)\u001b[39m/\u001b[39m\u001b[39m2\u001b[39m,(Norb),dtype\u001b[39m=\u001b[39m\u001b[39mint\u001b[39m)\n\u001b[1;32m      <a href='vscode-notebook-cell:/Users/logange/Projects/FQHE_Haldane/notebook_MR/MR_Pf.ipynb#X15sZmlsZQ%3D%3D?line=4'>5</a>\u001b[0m NA\u001b[39m=\u001b[39m\u001b[39mint\u001b[39m(N\u001b[39m/\u001b[39m\u001b[39m2\u001b[39m)\n",
      "\u001b[0;31mAttributeError\u001b[0m: type object 'system' has no attribute 'mzvals'"
     ]
    }
   ],
   "source": [
    "Norb=Nphi+1\n",
    "mzvals=system.mzvals\n",
    "system.mzvals\n",
    "subsystemA = np.arange((Norb)/2,(Norb),dtype=int)\n",
    "NA=int(N/2)\n",
    "LzAvec = np.arange(sum(mzvals[subsystemA][0:NA]),sum(mzvals[subsystemA][NA-1:None])+1) #noninclusive endpoint "
   ]
  },
  {
   "cell_type": "code",
   "execution_count": 12,
   "metadata": {},
   "outputs": [
    {
     "ename": "AttributeError",
     "evalue": "type object 'system' has no attribute 'mzvals'",
     "output_type": "error",
     "traceback": [
      "\u001b[0;31m---------------------------------------------------------------------------\u001b[0m",
      "\u001b[0;31mAttributeError\u001b[0m                            Traceback (most recent call last)",
      "\u001b[1;32m/Users/logange/Projects/FQHE_Haldane/notebook_MR/MR_Pf.ipynb Cell 14\u001b[0m in \u001b[0;36m1\n\u001b[0;32m----> <a href='vscode-notebook-cell:/Users/logange/Projects/FQHE_Haldane/notebook_MR/MR_Pf.ipynb#X16sZmlsZQ%3D%3D?line=0'>1</a>\u001b[0m ent_spec\u001b[39m=\u001b[39msystem\u001b[39m.\u001b[39mentanglement_spectrum(eigenstates[\u001b[39m0\u001b[39m],subsystemA,NA,LzAvec)\n",
      "File \u001b[0;32m~/Projects/FQHE_Haldane/notebook_MR/../src/hamiltonian.py:169\u001b[0m, in \u001b[0;36msystem.entanglement_spectrum\u001b[0;34m(self, groundstate, subsystemA, NA, LzAvec)\u001b[0m\n\u001b[1;32m    167\u001b[0m NAlist \u001b[39m=\u001b[39m np\u001b[39m.\u001b[39mzeros(groundstate\u001b[39m.\u001b[39mshape[\u001b[39m0\u001b[39m], dtype\u001b[39m=\u001b[39m\u001b[39mint\u001b[39m)\n\u001b[1;32m    168\u001b[0m LzAlist \u001b[39m=\u001b[39m np\u001b[39m.\u001b[39mzeros(groundstate\u001b[39m.\u001b[39mshape[\u001b[39m0\u001b[39m], dtype\u001b[39m=\u001b[39m\u001b[39mfloat\u001b[39m)\n\u001b[0;32m--> 169\u001b[0m mzA \u001b[39m=\u001b[39m system\u001b[39m.\u001b[39;49mmzvals[subsystemA]\n\u001b[1;32m    171\u001b[0m \u001b[39mfor\u001b[39;00m i \u001b[39min\u001b[39;00m \u001b[39mrange\u001b[39m(\u001b[39m0\u001b[39m,dim):\n\u001b[1;32m    172\u001b[0m     nsA \u001b[39m=\u001b[39m system\u001b[39m.\u001b[39mocc_orbitals_nlist[i][subsystemA]\n",
      "\u001b[0;31mAttributeError\u001b[0m: type object 'system' has no attribute 'mzvals'"
     ]
    }
   ],
   "source": [
    "ent_spec=system.entanglement_spectrum(eigenstates[0],subsystemA,NA,LzAvec)"
   ]
  },
  {
   "cell_type": "code",
   "execution_count": 205,
   "metadata": {},
   "outputs": [
    {
     "data": {
      "text/plain": [
       "array([ 4.5+0.j,  5.5+0.j,  6.5+0.j,  6.5+0.j,  7.5+0.j,  7.5+0.j,\n",
       "        8.5+0.j,  8.5+0.j,  9.5+0.j, 10.5+0.j])"
      ]
     },
     "execution_count": 205,
     "metadata": {},
     "output_type": "execute_result"
    }
   ],
   "source": [
    "spec[:,0]"
   ]
  },
  {
   "cell_type": "code",
   "execution_count": 206,
   "metadata": {},
   "outputs": [
    {
     "name": "stderr",
     "output_type": "stream",
     "text": [
      "/Users/logange/opt/miniconda3/lib/python3.9/site-packages/matplotlib/cbook/__init__.py:1298: ComplexWarning: Casting complex values to real discards the imaginary part\n",
      "  return np.asarray(x, float)\n"
     ]
    },
    {
     "data": {
      "image/png": "[encoded data removed]",
      "text/plain": [
       "<Figure size 640x480 with 1 Axes>"
      ]
     },
     "metadata": {},
     "output_type": "display_data"
    }
   ],
   "source": [
    "#plotting energetics\n",
    "\n",
    "fig, ax = plt.subplots()\n",
    "ax=plt.plot(spec[:,0], spec[:,1], ls=\"none\", marker=\"_\", ms=\"12\", mew=\"1.5\")"
   ]
  },
  {
   "cell_type": "code",
   "execution_count": null,
   "metadata": {},
   "outputs": [],
   "source": []
  },
  {
   "cell_type": "code",
   "execution_count": 138,
   "metadata": {},
   "outputs": [],
   "source": [
    "data=[4.5,2.3872303464374376, 5.5, 1.018408483750804, 6.5, 3.012573323737976, 7.5, 2.1135542904311175, 7.5, 5.898260826444714, 8.5, 3.2545149932892854, 8.5, 49.90659700031606, 9.5 ,6.112969861636075, 10.5 ,8.993189253502438]"
   ]
  },
  {
   "cell_type": "code",
   "execution_count": 146,
   "metadata": {},
   "outputs": [],
   "source": [
    "x=data[0::2]\n",
    "y=data[1::2]"
   ]
  },
  {
   "cell_type": "code",
   "execution_count": 148,
   "metadata": {},
   "outputs": [
    {
     "data": {
      "image/png": "[encoded data removed]",
      "text/plain": [
       "<Figure size 640x480 with 1 Axes>"
      ]
     },
     "metadata": {},
     "output_type": "display_data"
    }
   ],
   "source": [
    "#plotting energetics\n",
    "\n",
    "fig, ax = plt.subplots()\n",
    "ax=plt.plot(x, y, ls=\"none\", marker=\"_\", ms=\"12\", mew=\"1.5\")"
   ]
  },
  {
   "cell_type": "code",
   "execution_count": null,
   "metadata": {},
   "outputs": [],
   "source": []
  }
 ],
 "metadata": {
  "kernelspec": {
   "display_name": "base",
   "language": "python",
   "name": "python3"
  },
  "language_info": {
   "codemirror_mode": {
    "name": "ipython",
    "version": 3
   },
   "file_extension": ".py",
   "mimetype": "text/x-python",
   "name": "python",
   "nbconvert_exporter": "python",
   "pygments_lexer": "ipython3",
   "version": "3.9.12"
  },
  "orig_nbformat": 4,
  "vscode": {
   "interpreter": {
    "hash": "3ae8873d700d0a270a8fd45f82244049f96d19b00f8a70a161790085889ce277"
   }
  }
 },
 "nbformat": 4,
 "nbformat_minor": 2
}
