{
 "cells": [
  {
   "cell_type": "code",
   "execution_count": 217,
   "metadata": {},
   "outputs": [],
   "source": [
    "import numpy as np\n",
    "import scipy.linalg as LA\n",
    "import matplotlib.pyplot as plt\n",
    "\n",
    "import sys\n",
    "sys.path.insert(0, '../src')\n",
    "\n",
    "from hamiltonian import *\n",
    "from misc import *\n",
    "from haldane_pseudopotential import *\n",
    "from plotting import *"
   ]
  },
  {
   "cell_type": "code",
   "execution_count": 218,
   "metadata": {},
   "outputs": [
    {
     "name": "stdout",
     "output_type": "stream",
     "text": [
      "========Initializing possible states in spherical geometry========\n",
      "completed in 0.07533478736877441 seconds\n",
      "N = 10 electrons\n",
      "Nphi = 17 flux quanta\n",
      "\n"
     ]
    }
   ],
   "source": [
    "#simulation parameters\n",
    "#for MR_Pf state, v=5/2 and S=3\n",
    "#N_phi=2(N_e)-3 for LL=2\n",
    "N = 10\n",
    "filling_factor_inv = 2\n",
    "top_shift=3\n",
    "Nphi = filling_factor_inv*N-top_shift\n",
    "\n",
    "system = system(N, Nphi,0, L2=False)"
   ]
  },
  {
   "cell_type": "code",
   "execution_count": 219,
   "metadata": {},
   "outputs": [
    {
     "name": "stdout",
     "output_type": "stream",
     "text": [
      "========Initializing two-body pseudopotential========\n",
      "completed in 0.08975005149841309 seconds\n",
      "pseudopotential: [1.80985001 1.43491875 1.37944029 1.11985228 0.96669161 0.85872028\n",
      " 0.7771593  0.71316893 0.66181709 0.6200705  0.58594063 0.55806529\n",
      " 0.5354832  0.51750386 0.50362866 0.4935015  0.48687734 0.48360236]  with finite width: 0.001\n",
      "\n",
      "========Initializing two-body pseudopotential========\n",
      "completed in 0.08084297180175781 seconds\n",
      "pseudopotential: [1.61269446 1.35537492 1.27755735 1.10375025 0.98642256 0.90017488\n",
      " 0.8335591  0.78054241 0.73756599 0.70236536 0.67342113 0.64967475\n",
      " 0.63036961 0.61495682 0.60303706 0.59432343 0.58861766 0.58579493]  with finite width: 0.5\n",
      "\n",
      "========Initializing two-body pseudopotential========\n",
      "completed in 0.07861995697021484 seconds\n",
      "pseudopotential: [1.46513197 1.28515692 1.20751552 1.08675436 0.99745261 0.92929827\n",
      " 0.87552406 0.83212109 0.7965817  0.7672518  0.7429939  0.7230012\n",
      " 0.70668913 0.69362919 0.6835071  0.67609569 0.67123722 0.6688321 ]  with finite width: 1.0\n",
      "\n",
      "========Initializing two-body pseudopotential========\n",
      "completed in 0.08085799217224121 seconds\n",
      "pseudopotential: [1.35427477 1.22625653 1.15761693 1.07117262 1.00325671 0.94975229\n",
      " 0.9067062  0.87149603 0.84238337 0.81817935 0.7980457  0.78137692\n",
      " 0.76772814 0.7567698  0.74825812 0.7420158  0.73791916 0.73588984]  with finite width: 1.5\n",
      "\n",
      "========Initializing two-body pseudopotential========\n",
      "completed in 0.07803702354431152 seconds\n",
      "pseudopotential: [1.27058071 1.17822303 1.12099833 1.05772634 1.00599337 0.96415977\n",
      " 0.92991428 0.90155538 0.87789122 0.85807755 0.84150436 0.82772287\n",
      " 0.81639885 0.80728194 0.80018548 0.7949728  0.79154813 0.78985058]  with finite width: 2.0\n",
      "\n",
      "========Initializing two-body pseudopotential========\n",
      "completed in 0.08437895774841309 seconds\n",
      "pseudopotential: [1.20713703 1.13972158 1.09353581 1.04647708 1.00697218 0.9743429\n",
      " 0.94722366 0.92451315 0.9053999  0.88928976 0.87574312 0.86443086\n",
      " 0.85510445 0.84757582 0.84170355 0.83738344 0.83454214 0.83313288]  with finite width: 2.5\n",
      "\n",
      "========Initializing two-body pseudopotential========\n",
      "completed in 0.08226895332336426 seconds\n",
      "pseudopotential: [1.15888149 1.10919653 1.0726264  1.03722971 1.00698136 0.98156658\n",
      " 0.96016411 0.94205983 0.92670336 0.91367921 0.90267303 0.89344546\n",
      " 0.88581338 0.87963678 0.87480953 0.87125296 0.86891143 0.86774934]  with finite width: 3.0\n",
      "\n",
      "========Initializing two-body pseudopotential========\n",
      "completed in 0.0825800895690918 seconds\n",
      "pseudopotential: [1.12207403 1.08516635 1.05654452 1.02970965 1.00649062 0.98670993\n",
      " 0.96986251 0.95548305 0.94319881 0.93272046 0.92382458 0.91633827\n",
      " 0.91012763 0.90508925 0.90114413 0.89823339 0.89631517 0.89536262]  with finite width: 3.5\n",
      "\n",
      "========Initializing two-body pseudopotential========\n",
      "completed in 0.07981419563293457 seconds\n",
      "pseudopotential: [1.0939312  1.06633669 1.04409426 1.02363807 1.0057756  0.99038549\n",
      " 0.9771495  0.96576237 0.95597154 0.94757612 0.940418   0.93437302\n",
      " 0.92934387 0.92525469 0.92204711 0.91967736 0.91811421 0.91733756]  with finite width: 4.0\n",
      "\n",
      "========Initializing two-body pseudopotential========\n",
      "completed in 0.0820159912109375 seconds\n",
      "pseudopotential: [1.07236897 1.05162692 1.03441581 1.0187612  1.00499404 0.99302153\n",
      " 0.98263835 0.97364264 0.965863   0.95916016 0.95342259 0.94856155\n",
      " 0.94450667 0.94120266 0.93860664 0.9366863  0.93541848 0.93478823]  with finite width: 4.5\n",
      "\n",
      "========Initializing two-body pseudopotential========\n",
      "completed in 0.07959127426147461 seconds\n",
      "pseudopotential: [1.0558192  1.04015846 1.02687333 1.01485942 1.00423234 0.99491857\n",
      " 0.98678278 0.97969039 0.97352478 0.96818945 0.96360595 0.95971105\n",
      " 0.95645413 0.95379505 0.95170251 0.95015278 0.9491288  0.94861952]  with finite width: 5.0\n",
      "\n",
      "========Initializing two-body pseudopotential========\n",
      "completed in 0.08805513381958008 seconds\n",
      "pseudopotential: [1.04309696 1.03122852 1.02098703 1.01174774 1.00353421 0.99628834\n",
      " 0.98991934 0.98433676 0.97946104 0.97522529 0.97157442 0.96846351\n",
      " 0.96585628 0.96372373 0.9620431  0.96079707 0.95997312 0.95956314]  with finite width: 5.5\n",
      "\n",
      "========Initializing two-body pseudopotential========\n",
      "completed in 0.08673810958862305 seconds\n",
      "pseudopotential: [1.03330373 1.02428081 1.01638977 1.00927283 1.00291815 0.99728058\n",
      " 0.99229835 0.98791023 0.98406175 0.98070653 0.97780593 0.97532812\n",
      " 0.97324716 0.97154218 0.97019672 0.96919816 0.96853739 0.96820847]  with finite width: 6.0\n",
      "\n",
      "========Initializing two-body pseudopotential========\n",
      "completed in 0.09160709381103516 seconds\n",
      "pseudopotential: [1.02575613 1.01887793 1.01279809 1.00730893 1.00238825 0.9980016\n",
      " 0.99410652 0.99066129 0.98762849 0.98497596 0.98267658 0.98070786\n",
      " 0.9790513  0.97769193 0.97661786 0.97581998 0.97529166 0.97502856]  with finite width: 6.5\n",
      "\n",
      "========Initializing two-body pseudopotential========\n",
      "completed in 0.09041118621826172 seconds\n",
      "pseudopotential: [1.01993302 1.01467752 1.00999184 1.00575369 1.00194074 0.99852714\n",
      " 0.99548349 0.99278121 0.99039452 0.98830106 0.98648187 0.98492102\n",
      " 0.98360537 0.9825242  0.98166898 0.98103313 0.98061183 0.98040195]  with finite width: 7.0\n",
      "\n",
      "========Initializing two-body pseudopotential========\n",
      "completed in 0.08347606658935547 seconds\n",
      "pseudopotential: [1.01543613 1.01141236 1.00779943 1.00452428 1.00156795 0.99891133\n",
      " 0.99653399 0.99441623 0.99254024 0.99089049 0.98945367 0.98821856\n",
      " 0.98717582 0.9863178  0.98563839 0.98513284 0.9847977  0.98463068]  with finite width: 7.5\n",
      "\n",
      "========Initializing two-body pseudopotential========\n",
      "completed in 0.08196306228637695 seconds\n",
      "pseudopotential: [1.01196048 1.00887428 1.00608689 1.00355398 1.00126067 0.99919304\n",
      " 0.99733678 0.99567831 0.99420528 0.99290688 0.99177379 0.99079809\n",
      " 0.98997316 0.98929357 0.98875492 0.98835382 0.98808778 0.98795517]  with finite width: 8.0\n",
      "\n",
      "========Initializing two-body pseudopotential========\n",
      "completed in 0.08423995971679688 seconds\n",
      "pseudopotential: [1.00927211 1.00690131 1.00474946 1.00278926 1.00100952 0.99940018\n",
      " 0.99795124 0.99665326 0.99549769 0.99447698 0.99358461 0.99281499\n",
      " 0.99216345 0.99162611 0.99119984 0.99088221 0.99067143 0.99056634]  with finite width: 8.5\n",
      "\n",
      "========Initializing two-body pseudopotential========\n",
      "completed in 0.0837559700012207 seconds\n",
      "pseudopotential: [1.00719128 1.00536752 1.00370522 1.00218732 1.00080564 0.99955294\n",
      " 0.99842223 0.99740694 0.99650113 0.99569953 0.99499757 0.99439133\n",
      " 0.99387747 0.99345327 0.99311648 0.99286538 0.99269867 0.99261553]  with finite width: 9.0\n",
      "\n",
      "========Initializing two-body pseudopotential========\n",
      "completed in 0.08316898345947266 seconds\n",
      "pseudopotential: [1.00557971 1.00417502 1.00289008 1.00171405 1.00064105 0.99966592\n",
      " 0.99878374 0.99798995 0.99728042 0.99665146 0.99609986 0.99562287\n",
      " 0.99521813 0.99488371 0.99461801 0.9944198  0.99428815 0.99422248]  with finite width: 9.5\n",
      "\n"
     ]
    }
   ],
   "source": [
    "d_vals = np.arange(0,10,0.5)\n",
    "d_vals[0] = 0.001\n",
    "\n",
    "V_m = []\n",
    "\n",
    "for d in d_vals: \n",
    "    pp = haldane_pseudopotential(l = system.Q, \n",
    "                                LLn = 1,\n",
    "                                width = d,\n",
    "                                custom = None,\n",
    "                                interaction = False)\n",
    "    \n",
    "    V_m.append(list(pp.V[1::2][0:6]))"
   ]
  },
  {
   "cell_type": "code",
   "execution_count": 222,
   "metadata": {},
   "outputs": [
    {
     "data": {
      "image/png": "[encoded data removed]",
      "text/plain": [
       "<Figure size 576x432 with 1 Axes>"
      ]
     },
     "metadata": {
      "needs_background": "light"
     },
     "output_type": "display_data"
    }
   ],
   "source": [
    "V_m = np.asarray(V_m)\n",
    "index=np.arange(1,12,2)\n",
    "\n",
    "plt.subplots(figsize=(8,6))\n",
    "for i in range(0,6):\n",
    "    plt.plot(d_vals,V_m[:,i],label=rf'$V_{index[i]}$')\n",
    "\n",
    "plt.ylim(0,0.6)\n",
    "plt.legend()\n",
    "plt.show()"
   ]
  },
  {
   "cell_type": "code",
   "execution_count": 223,
   "metadata": {},
   "outputs": [
    {
     "data": {
      "text/plain": [
       "array([[1.43491875, 1.11985228, 0.85872028, 0.71316893, 0.6200705 ,\n",
       "        0.55806529],\n",
       "       [1.35537492, 1.10375025, 0.90017488, 0.78054241, 0.70236536,\n",
       "        0.64967475],\n",
       "       [1.28515692, 1.08675436, 0.92929827, 0.83212109, 0.7672518 ,\n",
       "        0.7230012 ],\n",
       "       [1.22625653, 1.07117262, 0.94975229, 0.87149603, 0.81817935,\n",
       "        0.78137692],\n",
       "       [1.17822303, 1.05772634, 0.96415977, 0.90155538, 0.85807755,\n",
       "        0.82772287],\n",
       "       [1.13972158, 1.04647708, 0.9743429 , 0.92451315, 0.88928976,\n",
       "        0.86443086],\n",
       "       [1.10919653, 1.03722971, 0.98156658, 0.94205983, 0.91367921,\n",
       "        0.89344546],\n",
       "       [1.08516635, 1.02970965, 0.98670993, 0.95548305, 0.93272046,\n",
       "        0.91633827],\n",
       "       [1.06633669, 1.02363807, 0.99038549, 0.96576237, 0.94757612,\n",
       "        0.93437302],\n",
       "       [1.05162692, 1.0187612 , 0.99302153, 0.97364264, 0.95916016,\n",
       "        0.94856155],\n",
       "       [1.04015846, 1.01485942, 0.99491857, 0.97969039, 0.96818945,\n",
       "        0.95971105],\n",
       "       [1.03122852, 1.01174774, 0.99628834, 0.98433676, 0.97522529,\n",
       "        0.96846351],\n",
       "       [1.02428081, 1.00927283, 0.99728058, 0.98791023, 0.98070653,\n",
       "        0.97532812],\n",
       "       [1.01887793, 1.00730893, 0.9980016 , 0.99066129, 0.98497596,\n",
       "        0.98070786],\n",
       "       [1.01467752, 1.00575369, 0.99852714, 0.99278121, 0.98830106,\n",
       "        0.98492102],\n",
       "       [1.01141236, 1.00452428, 0.99891133, 0.99441623, 0.99089049,\n",
       "        0.98821856],\n",
       "       [1.00887428, 1.00355398, 0.99919304, 0.99567831, 0.99290688,\n",
       "        0.99079809],\n",
       "       [1.00690131, 1.00278926, 0.99940018, 0.99665326, 0.99447698,\n",
       "        0.99281499],\n",
       "       [1.00536752, 1.00218732, 0.99955294, 0.99740694, 0.99569953,\n",
       "        0.99439133],\n",
       "       [1.00417502, 1.00171405, 0.99966592, 0.99798995, 0.99665146,\n",
       "        0.99562287]])"
      ]
     },
     "execution_count": 223,
     "metadata": {},
     "output_type": "execute_result"
    }
   ],
   "source": [
    "V_m"
   ]
  },
  {
   "cell_type": "code",
   "execution_count": 155,
   "metadata": {},
   "outputs": [
    {
     "name": "stderr",
     "output_type": "stream",
     "text": [
      "<ipython-input-155-d9d61585bbda>:5: RuntimeWarning: divide by zero encountered in divide\n",
      "  V_c=1/k\n"
     ]
    },
    {
     "data": {
      "text/plain": [
       "<matplotlib.legend.Legend at 0x143b8a8e0>"
      ]
     },
     "execution_count": 155,
     "metadata": {},
     "output_type": "execute_result"
    },
    {
     "data": {
      "image/png": "[encoded data removed]",
      "text/plain": [
       "<Figure size 576x432 with 1 Axes>"
      ]
     },
     "metadata": {
      "needs_background": "light"
     },
     "output_type": "display_data"
    }
   ],
   "source": [
    "d_vals = np.arange(0,10,0.5)\n",
    "d_vals[0] = 0.001\n",
    "\n",
    "k=np.arange(0,10,0.5)\n",
    "V_c=1/k\n",
    "\n",
    "plt.subplots(figsize=(8,6))\n",
    "\n",
    "plt.plot(d_vals*k,V_m[:,0]/d_vals,label=rf'$V_{index[i]}$')\n",
    "plt.plot(d_vals*k,V_c/d_vals,label=rf'$V_{index[i]}$')\n",
    "\n",
    "plt.ylim(0,0.5)\n",
    "plt.xlim(0,10)\n",
    "plt.legend()"
   ]
  },
  {
   "cell_type": "code",
   "execution_count": 162,
   "metadata": {},
   "outputs": [],
   "source": [
    "def finite_width_vsq(k,d):\n",
    "    \n",
    "    numerator=3*k*d + 8*np.pi**2/(k*d) - 32*np.pi**4*(1 - np.exp(-k*d))/((k*d)**2* ((k*d)**2 + 4*np.pi**2))\n",
    "    denominator = (k*d)**2 + 4*np.pi**2\n",
    "    \n",
    "    return numerator/(k*denominator)"
   ]
  },
  {
   "cell_type": "code",
   "execution_count": 163,
   "metadata": {},
   "outputs": [
    {
     "name": "stdout",
     "output_type": "stream",
     "text": [
      "0.2889539701641464\n",
      "0.21479644468108763\n",
      "0.16722241490672043\n",
      "0.13507757288625197\n",
      "0.1123632719725514\n",
      "0.09568782390692832\n",
      "0.0830425952535644\n",
      "0.07318668993958068\n",
      "0.06532371573725249\n",
      "0.05892480123048289\n",
      "0.053627868400077834\n",
      "0.0491782159344026\n",
      "0.04539229849437205\n",
      "0.042134971576478206\n",
      "0.03930479784992764\n",
      "0.03682431858113056\n",
      "0.03463346389042299\n",
      "0.032684995420698165\n",
      "0.03094129426169962\n",
      "0.02937205746491876\n"
     ]
    }
   ],
   "source": [
    "w=np.arange(0.1,10,0.5)\n",
    "for w in w:\n",
    "    print(finite_width_vsq(np.sqrt(system.get_ell()),d=w))"
   ]
  },
  {
   "cell_type": "code",
   "execution_count": null,
   "metadata": {},
   "outputs": [],
   "source": []
  }
 ],
 "metadata": {
  "kernelspec": {
   "display_name": "tensorflow_silicon",
   "language": "python",
   "name": "python3"
  },
  "language_info": {
   "codemirror_mode": {
    "name": "ipython",
    "version": 3
   },
   "file_extension": ".py",
   "mimetype": "text/x-python",
   "name": "python",
   "nbconvert_exporter": "python",
   "pygments_lexer": "ipython3",
   "version": "3.9.16"
  },
  "orig_nbformat": 4
 },
 "nbformat": 4,
 "nbformat_minor": 2
}
